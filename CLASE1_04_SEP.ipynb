{
  "nbformat": 4,
  "nbformat_minor": 0,
  "metadata": {
    "colab": {
      "provenance": [],
      "authorship_tag": "ABX9TyMQ3kr6gY4ntBA3mhvt3UG6",
      "include_colab_link": true
    },
    "kernelspec": {
      "name": "python3",
      "display_name": "Python 3"
    },
    "language_info": {
      "name": "python"
    }
  },
  "cells": [
    {
      "cell_type": "markdown",
      "metadata": {
        "id": "view-in-github",
        "colab_type": "text"
      },
      "source": [
        "<a href=\"https://colab.research.google.com/github/fabiansito/Tareas-de-programacion/blob/main/CLASE1_04_SEP.ipynb\" target=\"_parent\"><img src=\"https://colab.research.google.com/assets/colab-badge.svg\" alt=\"Open In Colab\"/></a>"
      ]
    },
    {
      "cell_type": "code",
      "execution_count": null,
      "metadata": {
        "id": "1vHzAuehd9-J"
      },
      "outputs": [],
      "source": []
    },
    {
      "cell_type": "markdown",
      "source": [
        "# Palabras Reservadas\n",
        "\n",
        "las palabras reservadas (keywords) corresponde a los nombres de las declaraciones que el interprete de python incluye por defecto. No se deve utilizar dichas palabras para asignar nombres a objetos.\n",
        "\n",
        "En el listado de palabras reservadas puede ser consultada ingresando help(\"keywords\")"
      ],
      "metadata": {
        "id": "C03nKqe1d-f3"
      }
    },
    {
      "cell_type": "markdown",
      "source": [
        "# El espacio de nombres (namespace)\n",
        "el espacio de nombre contiene relacion de los objetos existentes en la memoria del sistema y los nombres ligados.\n",
        "\n",
        "* python es un lenguaje de alto nivel en el que todos sus elementos son objetos incluyendo los tipos de datos basicos de tal forma que los terminos \"valor\" y \"objeto\" son sinonimos."
      ],
      "metadata": {
        "id": "C4fFJDwQfSXN"
      }
    },
    {
      "cell_type": "code",
      "source": [],
      "metadata": {
        "id": "a4Prs9BXjSid"
      },
      "execution_count": null,
      "outputs": []
    },
    {
      "cell_type": "code",
      "source": [
        "saludo = \"hola\"\n",
        "print(saludo)\n",
        "num1 = 5\n",
        "print(num1)\n",
        "num2 = \"6\"\n",
        "print(num2)\n"
      ],
      "metadata": {
        "colab": {
          "base_uri": "https://localhost:8080/"
        },
        "id": "5eDC8PaKg1t1",
        "outputId": "74aeb12d-010d-416c-9413-fc06170ba439"
      },
      "execution_count": 1,
      "outputs": [
        {
          "output_type": "stream",
          "name": "stdout",
          "text": [
            "hola\n",
            "5\n",
            "6\n"
          ]
        }
      ]
    }
  ]
}