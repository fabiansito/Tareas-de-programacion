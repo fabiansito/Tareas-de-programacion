{
  "nbformat": 4,
  "nbformat_minor": 0,
  "metadata": {
    "colab": {
      "provenance": [],
      "authorship_tag": "ABX9TyOE8UKAaN+IexwTj7doK7Y+",
      "include_colab_link": true
    },
    "kernelspec": {
      "name": "python3",
      "display_name": "Python 3"
    },
    "language_info": {
      "name": "python"
    }
  },
  "cells": [
    {
      "cell_type": "markdown",
      "metadata": {
        "id": "view-in-github",
        "colab_type": "text"
      },
      "source": [
        "<a href=\"https://colab.research.google.com/github/fabiansito/Tareas-de-programacion/blob/main/ejemplosdedatos.ipynb\" target=\"_parent\"><img src=\"https://colab.research.google.com/assets/colab-badge.svg\" alt=\"Open In Colab\"/></a>"
      ]
    },
    {
      "cell_type": "code",
      "execution_count": null,
      "metadata": {
        "colab": {
          "base_uri": "https://localhost:8080/"
        },
        "id": "u4LC3yAFM0Pw",
        "outputId": "ddfee674-9c12-4d4e-c6f1-17c4a5a893be"
      },
      "outputs": [
        {
          "output_type": "stream",
          "name": "stdout",
          "text": [
            "int: 10\n",
            "float: 3.14\n",
            "complex: (2+3j)\n",
            "bool: True\n",
            "\n",
            "str: Hola Mundo | Primer carácter: H\n",
            "\n",
            "list: [1, 'a', 3.5] | Segundo elemento: a\n",
            "Lista modificada: [1, 'a', 3.5, 'nuevo']\n",
            "\n",
            "tuple: (1, 2, 3) | Primer elemento: 1\n",
            "\n",
            "set: {1, 2, 3}\n",
            "Set modificado: {1, 2, 3, 4}\n",
            "\n",
            "dict: {'a': 1, 'b': 2} | Valor de 'a': 1\n",
            "\n",
            "bytes: b'Hola'\n",
            "bytearray: bytearray(b'ABC')\n",
            "\n",
            "NoneType: None\n"
          ]
        }
      ],
      "source": [
        "# Ejemplos de tipos de datos en Python\n",
        "\n",
        "# Numéricos\n",
        "x = 10          # int\n",
        "y = 3.14        # float\n",
        "z = 2 + 3j      # complex\n",
        "b = True        # bool\n",
        "\n",
        "print(\"int:\", x)\n",
        "print(\"float:\", y)\n",
        "print(\"complex:\", z)\n",
        "print(\"bool:\", b)\n",
        "\n",
        "# Cadena de texto\n",
        "texto = \"Hola Mundo\"\n",
        "print(\"\\nstr:\", texto, \"| Primer carácter:\", texto[0])\n",
        "\n",
        "# Lista\n",
        "lista = [1, \"a\", 3.5]\n",
        "print(\"\\nlist:\", lista, \"| Segundo elemento:\", lista[1])\n",
        "lista.append(\"nuevo\")\n",
        "print(\"Lista modificada:\", lista)\n",
        "\n",
        "# Tupla\n",
        "tupla = (1, 2, 3)\n",
        "print(\"\\ntuple:\", tupla, \"| Primer elemento:\", tupla[0])\n",
        "\n",
        "# Conjunto\n",
        "conjunto = {1, 2, 3}\n",
        "print(\"\\nset:\", conjunto)\n",
        "conjunto.add(4)\n",
        "print(\"Set modificado:\", conjunto)\n",
        "\n",
        "# Diccionario\n",
        "diccionario = {\"a\": 1, \"b\": 2}\n",
        "print(\"\\ndict:\", diccionario, \"| Valor de 'a':\", diccionario[\"a\"])\n",
        "\n",
        "# Bytes y Bytearray\n",
        "bts = b\"Hola\"\n",
        "ba = bytearray([65, 66, 67])\n",
        "print(\"\\nbytes:\", bts)\n",
        "print(\"bytearray:\", ba)\n",
        "\n",
        "# NoneType\n",
        "n = None\n",
        "print(\"\\nNoneType:\", n)"
      ]
    }
  ]
}